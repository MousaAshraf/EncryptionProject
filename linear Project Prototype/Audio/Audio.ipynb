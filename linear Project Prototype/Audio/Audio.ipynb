{
 "cells": [
  {
   "cell_type": "code",
   "execution_count": null,
   "metadata": {},
   "outputs": [
    {
     "name": "stdout",
     "output_type": "stream",
     "text": [
      "MP3 file has been successfully converted to WAV, encrypted, and decrypted!\n"
     ]
    }
   ],
   "source": [
    "import numpy as np\n",
    "import wave\n",
    "from scipy.linalg import inv\n",
    "from pydub import AudioSegment\n",
    "from pydub.utils import which\n",
    "\n",
    "\n",
    "\n",
    "def convert_mp3_to_wav(mp3_path, wav_path):\n",
    "    audio = AudioSegment.from_mp3(mp3_path)\n",
    "    audio.export(wav_path, format=\"wav\")\n",
    "\n",
    "\n",
    "def load_audio(filename):\n",
    "    with wave.open(filename, 'rb') as audio_file:\n",
    "        params = audio_file.getparams()\n",
    "        num_channels, sample_width, frame_rate, num_frames = params[:4]\n",
    "        audio_data = audio_file.readframes(num_frames)\n",
    "        audio_array = np.frombuffer(audio_data, dtype=np.int16).reshape(-1, num_channels)\n",
    "        return audio_array, frame_rate\n",
    "\n",
    "\n",
    "def save_audio(filename, matrix, sample_rate):\n",
    "    num_channels = matrix.shape[1] if matrix.ndim > 1 else 1\n",
    "    audio_data = np.clip(matrix, -32768, 32767).astype(np.int16).tobytes()\n",
    "\n",
    "    with wave.open(filename, 'wb') as audio_file:\n",
    "        audio_file.setnchannels(num_channels)\n",
    "        audio_file.setsampwidth(2)\n",
    "        audio_file.setframerate(sample_rate)\n",
    "        audio_file.writeframes(audio_data)\n",
    "\n",
    "\n",
    "def encrypt_audio(matrix, key_matrix):\n",
    "    return np.dot(matrix, key_matrix)\n",
    "\n",
    "\n",
    "def decrypt_audio(encrypted_matrix, key_matrix_inv):\n",
    "    return np.dot(encrypted_matrix, key_matrix_inv)\n",
    "\n",
    "\n",
    "def generate_key_matrix(size):\n",
    "    while True:\n",
    "        key_matrix = np.random.randint(1, 10, (size, size))\n",
    "        try:\n",
    "            key_matrix_inv = inv(key_matrix)\n",
    "            return key_matrix, key_matrix_inv\n",
    "        except np.linalg.LinAlgError:\n",
    "            continue\n",
    "\n",
    "\n",
    "if __name__ == \"__main__\":\n",
    "    input_mp3 = \"audio.wav\" \n",
    "    input_wav = \"input_audio.wav\"\n",
    "    output_encrypted = \"encrypted.wav\"\n",
    "    output_decrypted = \"decrypted.wav\"\n",
    "\n",
    "    convert_mp3_to_wav(input_mp3, input_wav)\n",
    "\n",
    "    audio_matrix, sample_rate = load_audio(input_wav)\n",
    "\n",
    "    key_matrix, key_matrix_inv = generate_key_matrix(audio_matrix.shape[1])\n",
    "\n",
    "    encrypted_matrix = encrypt_audio(audio_matrix, key_matrix)\n",
    "    save_audio(output_encrypted, encrypted_matrix, sample_rate)\n",
    "\n",
    "    decrypted_matrix = decrypt_audio(encrypted_matrix, key_matrix_inv)\n",
    "    save_audio(output_decrypted, decrypted_matrix, sample_rate)\n",
    "\n",
    "    print(\"MP3 file has been successfully converted to WAV, encrypted, and decrypted!\")\n"
   ]
  },
  {
   "cell_type": "code",
   "execution_count": null,
   "metadata": {},
   "outputs": [],
   "source": [
    "\n",
    "\n"
   ]
  }
 ],
 "metadata": {
  "kernelspec": {
   "display_name": "base",
   "language": "python",
   "name": "python3"
  },
  "language_info": {
   "codemirror_mode": {
    "name": "ipython",
    "version": 3
   },
   "file_extension": ".py",
   "mimetype": "text/x-python",
   "name": "python",
   "nbconvert_exporter": "python",
   "pygments_lexer": "ipython3",
   "version": "3.12.4"
  }
 },
 "nbformat": 4,
 "nbformat_minor": 4
}
